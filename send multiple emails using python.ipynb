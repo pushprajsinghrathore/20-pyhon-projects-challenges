{
 "cells": [
  {
   "cell_type": "code",
   "execution_count": 3,
   "id": "1ae94c2b",
   "metadata": {},
   "outputs": [],
   "source": [
    "import smtplib as sm\n"
   ]
  },
  {
   "cell_type": "markdown",
   "id": "c4bbec74",
   "metadata": {},
   "source": [
    "Simple Mail Transfer Protocol (SMTP) is a protocol, which handles sending e-mail and routing e-mail between mail servers. Python provides smtplib module, which defines an SMTP client session object that can be used to send mail to any Internet machine with an SMTP or ESMTP listener daemon."
   ]
  },
  {
   "cell_type": "code",
   "execution_count": 4,
   "id": "5bc1de0a",
   "metadata": {},
   "outputs": [],
   "source": [
    "object=sm.SMTP(\"smtp.gmail.com\",587) # to create a object and make server with help of smtp"
   ]
  },
  {
   "cell_type": "code",
   "execution_count": 5,
   "id": "336e427e",
   "metadata": {},
   "outputs": [
    {
     "data": {
      "text/plain": [
       "(250,\n",
       " b'smtp.gmail.com at your service, [2409:40c4:5e:9fd4:146c:fcee:e3e3:ce4b]\\nSIZE 35882577\\n8BITMIME\\nSTARTTLS\\nENHANCEDSTATUSCODES\\nPIPELINING\\nCHUNKING\\nSMTPUTF8')"
      ]
     },
     "execution_count": 5,
     "metadata": {},
     "output_type": "execute_result"
    }
   ],
   "source": [
    "object.ehlo()"
   ]
  },
  {
   "cell_type": "markdown",
   "id": "74a6a075",
   "metadata": {},
   "source": [
    "Extended HELO (EHLO) is an Extended Simple Mail Transfer Protocol (ESMTP) command sent by an email server to identify itself when connecting to another email server to start the process of sending an email"
   ]
  },
  {
   "cell_type": "code",
   "execution_count": 6,
   "id": "5df24d3f",
   "metadata": {},
   "outputs": [
    {
     "data": {
      "text/plain": [
       "(220, b'2.0.0 Ready to start TLS')"
      ]
     },
     "execution_count": 6,
     "metadata": {},
     "output_type": "execute_result"
    }
   ],
   "source": [
    "object.starttls()"
   ]
  },
  {
   "cell_type": "markdown",
   "id": "742c048d",
   "metadata": {},
   "source": [
    "STARTTLS is an email protocol command that tells an email server that an email client, including an email client running in a web browser, wants to turn an existing insecure connection into a secure one."
   ]
  },
  {
   "cell_type": "code",
   "execution_count": null,
   "id": "32966fca",
   "metadata": {},
   "outputs": [],
   "source": [
    "object.login(\" your mail address\",\"password\")"
   ]
  },
  {
   "cell_type": "code",
   "execution_count": 8,
   "id": "8062d723",
   "metadata": {},
   "outputs": [],
   "source": [
    "subject=\"test python\""
   ]
  },
  {
   "cell_type": "code",
   "execution_count": 9,
   "id": "eea2b3dd",
   "metadata": {},
   "outputs": [],
   "source": [
    "body=\" how are you guys\""
   ]
  },
  {
   "cell_type": "code",
   "execution_count": null,
   "id": "edc0c804",
   "metadata": {},
   "outputs": [],
   "source": [
    "massage=\"subject:{}\\n\\n{}\".format(subject,body) # .fromate use because you change the  subject body according to your "
   ]
  },
  {
   "cell_type": "code",
   "execution_count": 11,
   "id": "6a50071a",
   "metadata": {},
   "outputs": [],
   "source": [
    "listadd=[\"pushparajsinghrathore364@gmail.com\",\"mail address 2\",\"mail address 3\",]\n",
    "# create listaddress to send multiple mailes  "
   ]
  },
  {
   "cell_type": "code",
   "execution_count": null,
   "id": "b57f40d2",
   "metadata": {},
   "outputs": [],
   "source": [
    "object.sendmail(\"mail address\",listadd,massage)\n",
    "print(\"email send\")\n",
    "object.quit()"
   ]
  },
  {
   "cell_type": "code",
   "execution_count": null,
   "id": "0e490584",
   "metadata": {},
   "outputs": [],
   "source": []
  }
 ],
 "metadata": {
  "kernelspec": {
   "display_name": "Python 3 (ipykernel)",
   "language": "python",
   "name": "python3"
  },
  "language_info": {
   "codemirror_mode": {
    "name": "ipython",
    "version": 3
   },
   "file_extension": ".py",
   "mimetype": "text/x-python",
   "name": "python",
   "nbconvert_exporter": "python",
   "pygments_lexer": "ipython3",
   "version": "3.9.7"
  }
 },
 "nbformat": 4,
 "nbformat_minor": 5
}
